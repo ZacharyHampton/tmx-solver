{
 "cells": [
  {
   "cell_type": "code",
   "execution_count": 14,
   "metadata": {
    "collapsed": true,
    "ExecuteTime": {
     "end_time": "2023-07-14T16:04:55.905961Z",
     "start_time": "2023-07-14T16:04:48.569932Z"
    }
   },
   "outputs": [],
   "source": [
    "import os\n",
    "from pymongo import MongoClient\n",
    "import certifi\n",
    "from dotenv import load_dotenv\n",
    "import pandas as pd"
   ]
  },
  {
   "cell_type": "code",
   "execution_count": 9,
   "outputs": [
    {
     "data": {
      "text/plain": "True"
     },
     "execution_count": 9,
     "metadata": {},
     "output_type": "execute_result"
    }
   ],
   "source": [
    "load_dotenv(\"../.env.prod\")"
   ],
   "metadata": {
    "collapsed": false,
    "ExecuteTime": {
     "end_time": "2023-07-14T16:03:51.603707Z",
     "start_time": "2023-07-14T16:03:51.593689Z"
    }
   }
  },
  {
   "cell_type": "code",
   "execution_count": 10,
   "outputs": [],
   "source": [
    "mongo_client = MongoClient(os.getenv(\"MONGODB_URI\"), tlsCAFile=certifi.where())\n",
    "db = mongo_client[\"harvester\"]\n",
    "payloads_collection = db[\"payloads\"]"
   ],
   "metadata": {
    "collapsed": false,
    "ExecuteTime": {
     "end_time": "2023-07-14T16:03:52.945159Z",
     "start_time": "2023-07-14T16:03:52.804586Z"
    }
   }
  },
  {
   "cell_type": "code",
   "execution_count": 18,
   "outputs": [],
   "source": [
    "#: get all payloads, grouped by thx_guid, and sorted by timestamp\n",
    "pipeline = [\n",
    "    {\"$group\": {\"_id\": \"$thx_guid\", \"payloads\": {\"$push\": \"$$ROOT\"}}},\n",
    "    {\"$sort\": {\"payloads.timestamp\": 1}},\n",
    "]\n",
    "cursor = payloads_collection.aggregate(pipeline)"
   ],
   "metadata": {
    "collapsed": false,
    "ExecuteTime": {
     "end_time": "2023-07-14T16:08:47.911269Z",
     "start_time": "2023-07-14T16:08:47.382578Z"
    }
   }
  },
  {
   "cell_type": "code",
   "execution_count": 19,
   "outputs": [],
   "source": [
    "#: convert to dataframe\n",
    "df = pd.DataFrame.from_records(cursor)"
   ],
   "metadata": {
    "collapsed": false,
    "ExecuteTime": {
     "end_time": "2023-07-14T16:08:50.678500Z",
     "start_time": "2023-07-14T16:08:50.208853Z"
    }
   }
  },
  {
   "cell_type": "code",
   "execution_count": 20,
   "outputs": [
    {
     "data": {
      "text/plain": "_id         286\npayloads    286\ndtype: int64"
     },
     "execution_count": 20,
     "metadata": {},
     "output_type": "execute_result"
    }
   ],
   "source": [
    "df.count()  #: amount of sessions"
   ],
   "metadata": {
    "collapsed": false,
    "ExecuteTime": {
     "end_time": "2023-07-14T16:08:52.355523Z",
     "start_time": "2023-07-14T16:08:52.344341Z"
    }
   }
  },
  {
   "cell_type": "code",
   "execution_count": 23,
   "outputs": [],
   "source": [
    "df.to_csv(\"sessions.csv\", index=False)"
   ],
   "metadata": {
    "collapsed": false,
    "ExecuteTime": {
     "end_time": "2023-07-14T16:11:51.503060Z",
     "start_time": "2023-07-14T16:11:51.371975Z"
    }
   }
  },
  {
   "cell_type": "code",
   "execution_count": null,
   "outputs": [],
   "source": [],
   "metadata": {
    "collapsed": false
   }
  }
 ],
 "metadata": {
  "kernelspec": {
   "display_name": "Python 3",
   "language": "python",
   "name": "python3"
  },
  "language_info": {
   "codemirror_mode": {
    "name": "ipython",
    "version": 2
   },
   "file_extension": ".py",
   "mimetype": "text/x-python",
   "name": "python",
   "nbconvert_exporter": "python",
   "pygments_lexer": "ipython2",
   "version": "2.7.6"
  }
 },
 "nbformat": 4,
 "nbformat_minor": 0
}
