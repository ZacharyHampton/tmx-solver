{
 "cells": [
  {
   "cell_type": "code",
   "execution_count": 1,
   "metadata": {
    "collapsed": true,
    "ExecuteTime": {
     "end_time": "2023-07-19T15:18:16.218007Z",
     "start_time": "2023-07-19T15:18:14.124667Z"
    }
   },
   "outputs": [],
   "source": [
    "import os\n",
    "from pymongo import MongoClient\n",
    "import certifi\n",
    "from dotenv import load_dotenv\n",
    "import pandas as pd"
   ]
  },
  {
   "cell_type": "code",
   "execution_count": 2,
   "outputs": [
    {
     "data": {
      "text/plain": "True"
     },
     "execution_count": 2,
     "metadata": {},
     "output_type": "execute_result"
    }
   ],
   "source": [
    "load_dotenv(\"../.env.prod\")"
   ],
   "metadata": {
    "collapsed": false,
    "ExecuteTime": {
     "end_time": "2023-07-19T15:18:16.234105Z",
     "start_time": "2023-07-19T15:18:16.222208Z"
    }
   }
  },
  {
   "cell_type": "code",
   "execution_count": 3,
   "outputs": [],
   "source": [
    "mongo_client = MongoClient(os.getenv(\"MONGODB_URI\"), tlsCAFile=certifi.where())\n",
    "db = mongo_client[\"harvester\"]\n",
    "payloads_collection = db[\"payloads\"]"
   ],
   "metadata": {
    "collapsed": false,
    "ExecuteTime": {
     "end_time": "2023-07-19T15:18:16.483590Z",
     "start_time": "2023-07-19T15:18:16.225230Z"
    }
   }
  },
  {
   "cell_type": "code",
   "execution_count": 4,
   "outputs": [],
   "source": [
    "#: get all payloads, grouped by thx_guid, and sorted by timestamp\n",
    "pipeline = [\n",
    "    {\"$group\": {\"_id\": \"$thx_guid\", \"payloads\": {\"$push\": \"$$ROOT\"}}},\n",
    "    {\"$sort\": {\"payloads.timestamp\": 1}},\n",
    "]\n",
    "cursor = payloads_collection.aggregate(pipeline)"
   ],
   "metadata": {
    "collapsed": false,
    "ExecuteTime": {
     "end_time": "2023-07-19T15:18:18.952684Z",
     "start_time": "2023-07-19T15:18:16.482843Z"
    }
   }
  },
  {
   "cell_type": "code",
   "execution_count": 5,
   "outputs": [],
   "source": [
    "#: convert to dataframe\n",
    "df = pd.DataFrame.from_records(cursor)"
   ],
   "metadata": {
    "collapsed": false,
    "ExecuteTime": {
     "end_time": "2023-07-19T15:21:25.034841Z",
     "start_time": "2023-07-19T15:21:23.801176Z"
    }
   }
  },
  {
   "cell_type": "code",
   "execution_count": 20,
   "outputs": [
    {
     "data": {
      "text/plain": "_id         286\npayloads    286\ndtype: int64"
     },
     "execution_count": 20,
     "metadata": {},
     "output_type": "execute_result"
    }
   ],
   "source": [
    "df.count()  #: amount of sessions"
   ],
   "metadata": {
    "collapsed": false,
    "ExecuteTime": {
     "end_time": "2023-07-14T16:08:52.355523Z",
     "start_time": "2023-07-14T16:08:52.344341Z"
    }
   }
  },
  {
   "cell_type": "code",
   "execution_count": 6,
   "outputs": [
    {
     "data": {
      "text/plain": "                                _id  \\\n0  1d0fac6d9e3d00b37759b5bd609b50d1   \n1  74392f7a35de3d485ca87110906332f4   \n2  ad70724e6e8bc7c3416557822b0de3e8   \n3  1b0e0965e3f2da3fc279ce19ab41578a   \n4  1f07135c65598403581454e9421d6f95   \n\n                                            payloads  \n0  [{'_id': 64b0270f1b56f0ecc6e530fa, 'url': 'htt...  \n1  [{'_id': 64b029d0833e6c70214f97e3, 'url': 'htt...  \n2  [{'_id': 64b02d781b56f0ecc6e5310f, 'url': 'htt...  \n3  [{'_id': 64b10b84833e6c70214f9801, 'url': 'htt...  \n4  [{'_id': 64b14f021b56f0ecc6e53123, 'url': 'htt...  ",
      "text/html": "<div>\n<style scoped>\n    .dataframe tbody tr th:only-of-type {\n        vertical-align: middle;\n    }\n\n    .dataframe tbody tr th {\n        vertical-align: top;\n    }\n\n    .dataframe thead th {\n        text-align: right;\n    }\n</style>\n<table border=\"1\" class=\"dataframe\">\n  <thead>\n    <tr style=\"text-align: right;\">\n      <th></th>\n      <th>_id</th>\n      <th>payloads</th>\n    </tr>\n  </thead>\n  <tbody>\n    <tr>\n      <th>0</th>\n      <td>1d0fac6d9e3d00b37759b5bd609b50d1</td>\n      <td>[{'_id': 64b0270f1b56f0ecc6e530fa, 'url': 'htt...</td>\n    </tr>\n    <tr>\n      <th>1</th>\n      <td>74392f7a35de3d485ca87110906332f4</td>\n      <td>[{'_id': 64b029d0833e6c70214f97e3, 'url': 'htt...</td>\n    </tr>\n    <tr>\n      <th>2</th>\n      <td>ad70724e6e8bc7c3416557822b0de3e8</td>\n      <td>[{'_id': 64b02d781b56f0ecc6e5310f, 'url': 'htt...</td>\n    </tr>\n    <tr>\n      <th>3</th>\n      <td>1b0e0965e3f2da3fc279ce19ab41578a</td>\n      <td>[{'_id': 64b10b84833e6c70214f9801, 'url': 'htt...</td>\n    </tr>\n    <tr>\n      <th>4</th>\n      <td>1f07135c65598403581454e9421d6f95</td>\n      <td>[{'_id': 64b14f021b56f0ecc6e53123, 'url': 'htt...</td>\n    </tr>\n  </tbody>\n</table>\n</div>"
     },
     "execution_count": 6,
     "metadata": {},
     "output_type": "execute_result"
    }
   ],
   "source": [
    "df.to_csv(\"sessions.csv\", index=False)"
   ],
   "metadata": {
    "collapsed": false,
    "ExecuteTime": {
     "end_time": "2023-07-19T15:21:26.079061Z",
     "start_time": "2023-07-19T15:21:26.040534Z"
    }
   }
  },
  {
   "cell_type": "code",
   "execution_count": null,
   "outputs": [],
   "source": [],
   "metadata": {
    "collapsed": false
   }
  }
 ],
 "metadata": {
  "kernelspec": {
   "display_name": "Python 3",
   "language": "python",
   "name": "python3"
  },
  "language_info": {
   "codemirror_mode": {
    "name": "ipython",
    "version": 2
   },
   "file_extension": ".py",
   "mimetype": "text/x-python",
   "name": "python",
   "nbconvert_exporter": "python",
   "pygments_lexer": "ipython2",
   "version": "2.7.6"
  }
 },
 "nbformat": 4,
 "nbformat_minor": 0
}
